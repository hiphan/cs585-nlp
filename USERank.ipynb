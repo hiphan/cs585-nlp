{
  "nbformat": 4,
  "nbformat_minor": 0,
  "metadata": {
    "colab": {
      "name": "USERank.ipynb",
      "provenance": [],
      "collapsed_sections": []
    },
    "kernelspec": {
      "name": "python3",
      "display_name": "Python 3"
    }
  },
  "cells": [
    {
      "cell_type": "markdown",
      "metadata": {
        "id": "ayoSfNQ52P6s",
        "colab_type": "text"
      },
      "source": [
        "Google Colab link: https://colab.research.google.com/drive/1KIAszDpVugPFyjrWiIdVLHOCSTMH8s88\n"
      ]
    },
    {
      "cell_type": "code",
      "metadata": {
        "id": "zmrF-BBOPWSx",
        "colab_type": "code",
        "outputId": "fd387458-5b67-45de-b29f-eba5a575b531",
        "colab": {
          "base_uri": "https://localhost:8080/",
          "height": 122
        }
      },
      "source": [
        "from google.colab import drive\n",
        "drive.mount('/content/gdrive/', force_remount=True)"
      ],
      "execution_count": 1,
      "outputs": [
        {
          "output_type": "stream",
          "text": [
            "Go to this URL in a browser: https://accounts.google.com/o/oauth2/auth?client_id=947318989803-6bn6qk8qdgf4n4g3pfee6491hc0brc4i.apps.googleusercontent.com&redirect_uri=urn%3aietf%3awg%3aoauth%3a2.0%3aoob&response_type=code&scope=email%20https%3a%2f%2fwww.googleapis.com%2fauth%2fdocs.test%20https%3a%2f%2fwww.googleapis.com%2fauth%2fdrive%20https%3a%2f%2fwww.googleapis.com%2fauth%2fdrive.photos.readonly%20https%3a%2f%2fwww.googleapis.com%2fauth%2fpeopleapi.readonly\n",
            "\n",
            "Enter your authorization code:\n",
            "··········\n",
            "Mounted at /content/gdrive/\n"
          ],
          "name": "stdout"
        }
      ]
    },
    {
      "cell_type": "code",
      "metadata": {
        "id": "pd6GuPNvkyq7",
        "colab_type": "code",
        "colab": {
          "base_uri": "https://localhost:8080/",
          "height": 34
        },
        "outputId": "9ea25123-df67-464a-8b36-385d252f9746"
      },
      "source": [
        "%tensorflow_version 2.x"
      ],
      "execution_count": 2,
      "outputs": [
        {
          "output_type": "stream",
          "text": [
            "TensorFlow 2.x selected.\n"
          ],
          "name": "stdout"
        }
      ]
    },
    {
      "cell_type": "code",
      "metadata": {
        "id": "dKNFIpd0P6ih",
        "colab_type": "code",
        "colab": {}
      },
      "source": [
        "import numpy as np \n",
        "import pandas as pd\n",
        "import tensorflow as tf\n",
        "import tensorflow_hub as hub \n",
        "from tensorflow.keras.layers import LSTM, Input, Dense, Dropout\n",
        "from tensorflow.keras.models import Sequential\n",
        "from tensorflow.keras.callbacks import EarlyStopping\n",
        "import os\n",
        "import re\n",
        "\n",
        "\n",
        "# Load both training and test set from Google Drive into DataFrames.\n",
        "def load_dataset(path='/content/gdrive/My Drive/585/'):\n",
        "  training = pd.read_csv(path + 'training_newsela.csv')\n",
        "  test = pd.read_csv(path + 'test_newsela.csv')\n",
        "  return training, test"
      ],
      "execution_count": 0,
      "outputs": []
    },
    {
      "cell_type": "code",
      "metadata": {
        "id": "uW9UmTs8VY2j",
        "colab_type": "code",
        "colab": {}
      },
      "source": [
        "train, test = load_dataset()"
      ],
      "execution_count": 0,
      "outputs": []
    },
    {
      "cell_type": "markdown",
      "metadata": {
        "id": "lIC-2csh6uIR",
        "colab_type": "text"
      },
      "source": [
        "Again, it is useful to print out some stats and see a few examples from our dataset. "
      ]
    },
    {
      "cell_type": "code",
      "metadata": {
        "id": "J7s4lc-nVZSZ",
        "colab_type": "code",
        "colab": {
          "base_uri": "https://localhost:8080/",
          "height": 51
        },
        "outputId": "e40dbacb-d8fd-4eb3-9794-f9b8a44c1420"
      },
      "source": [
        "print('Training set contains %d examples' % len(train))\n",
        "print('Test set contains %d examples' % len(test))"
      ],
      "execution_count": 5,
      "outputs": [
        {
          "output_type": "stream",
          "text": [
            "Training set contains 8570 examples\n",
            "Test set contains 953 examples\n"
          ],
          "name": "stdout"
        }
      ]
    },
    {
      "cell_type": "code",
      "metadata": {
        "id": "B2oKYo1u5opy",
        "colab_type": "code",
        "colab": {
          "base_uri": "https://localhost:8080/",
          "height": 802
        },
        "outputId": "178fac27-77f9-47d8-f5de-5abc60942273"
      },
      "source": [
        "idx = np.random.randint(0, len(train))\n",
        "print('Example from the training set:')\n",
        "print('Text:' + train.iloc[idx].text)\n",
        "print('Difficulty (between 0 and 4): %d' % train.iloc[idx].label) "
      ],
      "execution_count": 6,
      "outputs": [
        {
          "output_type": "stream",
          "text": [
            "Example from the training set:\n",
            "Text:SAN DIEGO, Calif. — Helicopter pilot Jason Thrasher was fighting a fire in California. All of a sudden, he saw what he thought was another helicopter battling the blaze.\n",
            "\n",
            "He realized the object was a remote-controlled airplane, called a drone. It was only 10 feet from his windshield. He had to turn the helicopter sharply to avoid hitting it, according to a report.\n",
            "\n",
            "\"If that drone came through my windshield, I have no idea what could have happened,\" Thrasher said. If the drone hit the tail, the helicopter could have crashed.\n",
            "\n",
            "The near-miss last September explains why firefighting pilots are worried. The problems have led to calls for more laws to keep drones away from firefighting aircraft.\n",
            "\n",
            "Drones are also called unmanned aerial vehicles or UAVs. They are piloted by onboard computers or remotely by a person on the ground.\n",
            "\n",
            "## Officials Suspect Drones Intruded 13 Times This Year\n",
            "\n",
            "This year, there were 13 wildfires in which drones may have gotten in the way of firefighting aircraft. There were 11 since late June. Drones got in the way of only four fires last year. Last month, five drones at a wildfire forced aircraft to land for 20 minutes, while flames spread.\n",
            "\n",
            "\"When you can't support firefighters on the ground, fires get bigger,\" said Ken Pimlott. He is the director of the California Department of Forestry and Fire Protection. \"It's a huge issue.\"\n",
            "\n",
            "On Aug. 2, for the second time in three days, an airline pilot reported a drone while approaching a New York airport. On Aug. 9, four airplanes spotted a drone while landing in New Jersey. On Aug. 4, a drone got too near a fire in San Diego, California. The Fire Department pleaded with the drone operator to leave. They tweeted, \"You are interfering\" with firefighting.\n",
            "\n",
            "There is a simple explanation. Drones are getting cheaper, so more people are buying them. The Consumer Electronics Association predicts sales in the United States will reach 700,000 this year. About 430,000 drones were bought last year, compared to 128,000 in 2013. The group estimates this year's average price for a drone is $149. Drones cost $349 in 2013.\n",
            "\n",
            "<img class=\"pull-right\" src=\"https://newsela-test-files-f331e.s3.amazonaws.com/article_media/extra/drones_english.png\" />\n",
            "\n",
            "## Lawmakers Seeking Stronger Laws To Stop Meddling\n",
            "\n",
            "California lawmakers want stronger laws against drone owners who get in the way of firefighters. These laws would fine the drone owners and put them in jail. The lawmakers also want to let first responders destroy interfering drones. A first responder is a firefighter or police officer arriving at a fire or crime.\n",
            "\n",
            "Flying near wildfires is dangerous. Most drone owners probably do not know that, said Greg McNeal, a Pepperdine University professor and expert on drones. Others are just reckless, he said. Drones usually carry cameras, and drone owners may want to get pictures of forest fires in order to sell them.\n",
            "\n",
            "## 5 States Had Possible Drone Sightings At Fires\n",
            "\n",
            "The U.S. Forest Service reported possible drone sightings this year in 13 wildfires. California had eight. Washington state had two. Colorado, Minnesota and Utah each had one.\n",
            "\n",
            "A plane trying to put out a fire in California came near a drone on June 24. That meant four firefighting aircraft had to be grounded for 2 1/2 hours.\n",
            "\n",
            "An airplane spotted a drone on July 11. Pat McCabe is with the U.S. Forest Service. he was seated next to the pilot. McCabe saw the drone land about 3 miles from the fire. It was loaded onto an SUV. Its driver sped away.\n",
            "\n",
            "## Vehicles Barred From High Flight, Stadiums, Emergencies\n",
            "\n",
            "The Federal Aviation Administration states that drones should fly no higher than 400 feet. They should stay away from stadiums and people. They also should avoid flying within 5 miles of airports. During wildfires and other emergencies, they cannot fly.\n",
            "\n",
            "Jon Resnick works for SZ DJI Technology Co. It one of the largest drone makers.\n",
            "\n",
            "People need to have common sense, he said.\n",
            "Difficulty (between 0 and 4): 3\n"
          ],
          "name": "stdout"
        }
      ]
    },
    {
      "cell_type": "markdown",
      "metadata": {
        "id": "QwGKUGxx7SLY",
        "colab_type": "text"
      },
      "source": [
        "Load pre-trained Universal Sentence Encoder module from Tensorflow Hub."
      ]
    },
    {
      "cell_type": "code",
      "metadata": {
        "id": "oz_ZzM78JDcU",
        "colab_type": "code",
        "colab": {}
      },
      "source": [
        "hub_url = \"https://tfhub.dev/google/universal-sentence-encoder/4\"\n",
        "\n",
        "paragraph_embed = hub.KerasLayer(\n",
        "    hub_url,\n",
        "    dtype=tf.string\n",
        ")\n",
        "\n",
        "def build_average_model():\n",
        "  model = Sequential([\n",
        "    Input(shape=[], dtype=tf.string),\n",
        "    paragraph_embed,\n",
        "    Dense(units=256, activation=tf.nn.relu),\n",
        "    Dropout(rate=0.5),\n",
        "    Dense(units=256, activation=tf.nn.relu),\n",
        "    Dropout(rate=0.5),\n",
        "    Dense(units=5, activation='softmax')\n",
        "  ])\n",
        "  model.compile(\"adam\", loss=\"sparse_categorical_crossentropy\", metrics=['accuracy', 'mae', 'mse'])\n",
        "  return model "
      ],
      "execution_count": 0,
      "outputs": []
    },
    {
      "cell_type": "code",
      "metadata": {
        "id": "4xzoxc7ewmw4",
        "colab_type": "code",
        "colab": {
          "base_uri": "https://localhost:8080/",
          "height": 357
        },
        "outputId": "fd9ec991-e507-4bf8-bf4a-4fd3f7533af5"
      },
      "source": [
        "averaging_model = build_average_model()\n",
        "averaging_model.summary()"
      ],
      "execution_count": 8,
      "outputs": [
        {
          "output_type": "stream",
          "text": [
            "Model: \"sequential\"\n",
            "_________________________________________________________________\n",
            "Layer (type)                 Output Shape              Param #   \n",
            "=================================================================\n",
            "keras_layer (KerasLayer)     (None, 512)               256797824 \n",
            "_________________________________________________________________\n",
            "dense (Dense)                (None, 256)               131328    \n",
            "_________________________________________________________________\n",
            "dropout (Dropout)            (None, 256)               0         \n",
            "_________________________________________________________________\n",
            "dense_1 (Dense)              (None, 256)               65792     \n",
            "_________________________________________________________________\n",
            "dropout_1 (Dropout)          (None, 256)               0         \n",
            "_________________________________________________________________\n",
            "dense_2 (Dense)              (None, 5)                 1285      \n",
            "=================================================================\n",
            "Total params: 256,996,229\n",
            "Trainable params: 198,405\n",
            "Non-trainable params: 256,797,824\n",
            "_________________________________________________________________\n"
          ],
          "name": "stdout"
        }
      ]
    },
    {
      "cell_type": "code",
      "metadata": {
        "id": "CleB-IzhJj7b",
        "colab_type": "code",
        "colab": {
          "base_uri": "https://localhost:8080/",
          "height": 1000
        },
        "outputId": "be5a0fe7-673d-43d5-c440-df58ffdfbab9"
      },
      "source": [
        "from sklearn.model_selection import train_test_split\n",
        "\n",
        "\n",
        "x_train, x_val, y_train, y_val = train_test_split(train.text, train.label, test_size=0.1, random_state=0)\n",
        "\n",
        "x_train = tf.constant(x_train)\n",
        "y_train = tf.constant(y_train)\n",
        "x_val = tf.constant(x_val)\n",
        "y_val = tf.constant(y_val)\n",
        "\n",
        "# Early stopping \n",
        "early_stopping = EarlyStopping(monitor='val_loss', patience=20) \n",
        "\n",
        "# Train our model\n",
        "history = averaging_model.fit(x=x_train, y=y_train, validation_data=(x_val, y_val), callbacks=[early_stopping], batch_size=32, epochs=100)"
      ],
      "execution_count": 9,
      "outputs": [
        {
          "output_type": "stream",
          "text": [
            "Train on 7713 samples, validate on 857 samples\n",
            "Epoch 1/100\n",
            "7713/7713 [==============================] - 46s 6ms/sample - loss: 1.3275 - accuracy: 0.3800 - mae: 1.8696 - mse: 5.2042 - val_loss: 1.1002 - val_accuracy: 0.4924 - val_mae: 1.9137 - val_mse: 5.4674\n",
            "Epoch 2/100\n",
            "7713/7713 [==============================] - 45s 6ms/sample - loss: 1.0827 - accuracy: 0.4912 - mae: 1.8696 - mse: 5.2245 - val_loss: 1.0892 - val_accuracy: 0.4912 - val_mae: 1.9137 - val_mse: 5.4767\n",
            "Epoch 3/100\n",
            "7713/7713 [==============================] - 45s 6ms/sample - loss: 1.0295 - accuracy: 0.5178 - mae: 1.8696 - mse: 5.2288 - val_loss: 0.9809 - val_accuracy: 0.5438 - val_mae: 1.9137 - val_mse: 5.4789\n",
            "Epoch 4/100\n",
            "7713/7713 [==============================] - 45s 6ms/sample - loss: 0.9858 - accuracy: 0.5414 - mae: 1.8696 - mse: 5.2319 - val_loss: 0.9692 - val_accuracy: 0.5426 - val_mae: 1.9137 - val_mse: 5.4825\n",
            "Epoch 5/100\n",
            "7713/7713 [==============================] - 44s 6ms/sample - loss: 0.9426 - accuracy: 0.5632 - mae: 1.8696 - mse: 5.2352 - val_loss: 0.9600 - val_accuracy: 0.5554 - val_mae: 1.9137 - val_mse: 5.4862\n",
            "Epoch 6/100\n",
            "7713/7713 [==============================] - 44s 6ms/sample - loss: 0.9218 - accuracy: 0.5769 - mae: 1.8696 - mse: 5.2380 - val_loss: 0.9551 - val_accuracy: 0.5636 - val_mae: 1.9137 - val_mse: 5.4874\n",
            "Epoch 7/100\n",
            "7713/7713 [==============================] - 44s 6ms/sample - loss: 0.8689 - accuracy: 0.5881 - mae: 1.8696 - mse: 5.2417 - val_loss: 0.9250 - val_accuracy: 0.5648 - val_mae: 1.9137 - val_mse: 5.4899\n",
            "Epoch 8/100\n",
            "7713/7713 [==============================] - 44s 6ms/sample - loss: 0.8397 - accuracy: 0.6127 - mae: 1.8696 - mse: 5.2441 - val_loss: 0.9123 - val_accuracy: 0.5869 - val_mae: 1.9137 - val_mse: 5.4937\n",
            "Epoch 9/100\n",
            "7713/7713 [==============================] - 43s 6ms/sample - loss: 0.8112 - accuracy: 0.6206 - mae: 1.8696 - mse: 5.2469 - val_loss: 0.8593 - val_accuracy: 0.6079 - val_mae: 1.9137 - val_mse: 5.4959\n",
            "Epoch 10/100\n",
            "7713/7713 [==============================] - 43s 6ms/sample - loss: 0.7724 - accuracy: 0.6514 - mae: 1.8696 - mse: 5.2507 - val_loss: 0.8896 - val_accuracy: 0.5916 - val_mae: 1.9137 - val_mse: 5.4984\n",
            "Epoch 11/100\n",
            "7713/7713 [==============================] - 44s 6ms/sample - loss: 0.7595 - accuracy: 0.6576 - mae: 1.8696 - mse: 5.2523 - val_loss: 0.8986 - val_accuracy: 0.6044 - val_mae: 1.9137 - val_mse: 5.5019\n",
            "Epoch 12/100\n",
            "7713/7713 [==============================] - 43s 6ms/sample - loss: 0.7618 - accuracy: 0.6488 - mae: 1.8696 - mse: 5.2532 - val_loss: 0.8549 - val_accuracy: 0.6056 - val_mae: 1.9137 - val_mse: 5.5020\n",
            "Epoch 13/100\n",
            "7713/7713 [==============================] - 42s 6ms/sample - loss: 0.7165 - accuracy: 0.6759 - mae: 1.8696 - mse: 5.2566 - val_loss: 0.8595 - val_accuracy: 0.6021 - val_mae: 1.9137 - val_mse: 5.5051\n",
            "Epoch 14/100\n",
            "7713/7713 [==============================] - 42s 5ms/sample - loss: 0.6974 - accuracy: 0.6882 - mae: 1.8696 - mse: 5.2592 - val_loss: 0.8350 - val_accuracy: 0.6313 - val_mae: 1.9137 - val_mse: 5.5102\n",
            "Epoch 15/100\n",
            "7713/7713 [==============================] - 43s 6ms/sample - loss: 0.6690 - accuracy: 0.7005 - mae: 1.8696 - mse: 5.2626 - val_loss: 0.8336 - val_accuracy: 0.6359 - val_mae: 1.9137 - val_mse: 5.5113\n",
            "Epoch 16/100\n",
            "7713/7713 [==============================] - 42s 5ms/sample - loss: 0.6593 - accuracy: 0.7135 - mae: 1.8696 - mse: 5.2637 - val_loss: 0.8708 - val_accuracy: 0.6336 - val_mae: 1.9137 - val_mse: 5.5137\n",
            "Epoch 17/100\n",
            "7713/7713 [==============================] - 42s 5ms/sample - loss: 0.6348 - accuracy: 0.7162 - mae: 1.8696 - mse: 5.2665 - val_loss: 0.8012 - val_accuracy: 0.6464 - val_mae: 1.9137 - val_mse: 5.5123\n",
            "Epoch 18/100\n",
            "7713/7713 [==============================] - 43s 6ms/sample - loss: 0.6533 - accuracy: 0.7102 - mae: 1.8696 - mse: 5.2664 - val_loss: 0.8248 - val_accuracy: 0.6208 - val_mae: 1.9137 - val_mse: 5.5120\n",
            "Epoch 19/100\n",
            "7713/7713 [==============================] - 42s 5ms/sample - loss: 0.6115 - accuracy: 0.7312 - mae: 1.8696 - mse: 5.2689 - val_loss: 0.8901 - val_accuracy: 0.6126 - val_mae: 1.9137 - val_mse: 5.5181\n",
            "Epoch 20/100\n",
            "7713/7713 [==============================] - 41s 5ms/sample - loss: 0.6002 - accuracy: 0.7368 - mae: 1.8696 - mse: 5.2712 - val_loss: 0.8504 - val_accuracy: 0.6348 - val_mae: 1.9137 - val_mse: 5.5194\n",
            "Epoch 21/100\n",
            "7713/7713 [==============================] - 43s 6ms/sample - loss: 0.5806 - accuracy: 0.7499 - mae: 1.8696 - mse: 5.2739 - val_loss: 0.8261 - val_accuracy: 0.6569 - val_mae: 1.9137 - val_mse: 5.5226\n",
            "Epoch 22/100\n",
            "7713/7713 [==============================] - 43s 6ms/sample - loss: 0.5578 - accuracy: 0.7546 - mae: 1.8696 - mse: 5.2767 - val_loss: 0.8324 - val_accuracy: 0.6569 - val_mae: 1.9137 - val_mse: 5.5232\n",
            "Epoch 23/100\n",
            "7713/7713 [==============================] - 44s 6ms/sample - loss: 0.5635 - accuracy: 0.7515 - mae: 1.8696 - mse: 5.2763 - val_loss: 0.8256 - val_accuracy: 0.6523 - val_mae: 1.9137 - val_mse: 5.5243\n",
            "Epoch 24/100\n",
            "7713/7713 [==============================] - 43s 6ms/sample - loss: 0.5490 - accuracy: 0.7647 - mae: 1.8696 - mse: 5.2777 - val_loss: 0.8370 - val_accuracy: 0.6418 - val_mae: 1.9137 - val_mse: 5.5245\n",
            "Epoch 25/100\n",
            "7713/7713 [==============================] - 45s 6ms/sample - loss: 0.5318 - accuracy: 0.7736 - mae: 1.8696 - mse: 5.2797 - val_loss: 0.8698 - val_accuracy: 0.6523 - val_mae: 1.9137 - val_mse: 5.5250\n",
            "Epoch 26/100\n",
            "7713/7713 [==============================] - 43s 6ms/sample - loss: 0.5324 - accuracy: 0.7675 - mae: 1.8696 - mse: 5.2802 - val_loss: 0.8357 - val_accuracy: 0.6674 - val_mae: 1.9137 - val_mse: 5.5281\n",
            "Epoch 27/100\n",
            "7713/7713 [==============================] - 42s 5ms/sample - loss: 0.5358 - accuracy: 0.7603 - mae: 1.8696 - mse: 5.2802 - val_loss: 0.8701 - val_accuracy: 0.6184 - val_mae: 1.9137 - val_mse: 5.5251\n",
            "Epoch 28/100\n",
            "7713/7713 [==============================] - 42s 5ms/sample - loss: 0.4995 - accuracy: 0.7839 - mae: 1.8696 - mse: 5.2831 - val_loss: 0.8519 - val_accuracy: 0.6546 - val_mae: 1.9137 - val_mse: 5.5287\n",
            "Epoch 29/100\n",
            "7713/7713 [==============================] - 42s 5ms/sample - loss: 0.5065 - accuracy: 0.7805 - mae: 1.8696 - mse: 5.2838 - val_loss: 0.8908 - val_accuracy: 0.6383 - val_mae: 1.9137 - val_mse: 5.5327\n",
            "Epoch 30/100\n",
            "7713/7713 [==============================] - 44s 6ms/sample - loss: 0.5123 - accuracy: 0.7852 - mae: 1.8696 - mse: 5.2846 - val_loss: 0.8909 - val_accuracy: 0.6453 - val_mae: 1.9137 - val_mse: 5.5297\n",
            "Epoch 31/100\n",
            "7713/7713 [==============================] - 43s 6ms/sample - loss: 0.4820 - accuracy: 0.7980 - mae: 1.8696 - mse: 5.2858 - val_loss: 0.8928 - val_accuracy: 0.6429 - val_mae: 1.9137 - val_mse: 5.5332\n",
            "Epoch 32/100\n",
            "7713/7713 [==============================] - 45s 6ms/sample - loss: 0.4839 - accuracy: 0.7970 - mae: 1.8696 - mse: 5.2874 - val_loss: 0.8594 - val_accuracy: 0.6569 - val_mae: 1.9137 - val_mse: 5.5332\n",
            "Epoch 33/100\n",
            "7713/7713 [==============================] - 44s 6ms/sample - loss: 0.4929 - accuracy: 0.7856 - mae: 1.8696 - mse: 5.2882 - val_loss: 0.8933 - val_accuracy: 0.6476 - val_mae: 1.9137 - val_mse: 5.5336\n",
            "Epoch 34/100\n",
            "7713/7713 [==============================] - 44s 6ms/sample - loss: 0.4720 - accuracy: 0.7976 - mae: 1.8696 - mse: 5.2878 - val_loss: 0.8977 - val_accuracy: 0.6488 - val_mae: 1.9137 - val_mse: 5.5357\n",
            "Epoch 35/100\n",
            "7713/7713 [==============================] - 45s 6ms/sample - loss: 0.4468 - accuracy: 0.8073 - mae: 1.8696 - mse: 5.2899 - val_loss: 0.9460 - val_accuracy: 0.6499 - val_mae: 1.9137 - val_mse: 5.5376\n",
            "Epoch 36/100\n",
            "7713/7713 [==============================] - 44s 6ms/sample - loss: 0.4403 - accuracy: 0.8159 - mae: 1.8696 - mse: 5.2919 - val_loss: 0.9394 - val_accuracy: 0.6406 - val_mae: 1.9137 - val_mse: 5.5371\n",
            "Epoch 37/100\n",
            "7713/7713 [==============================] - 45s 6ms/sample - loss: 0.4423 - accuracy: 0.8129 - mae: 1.8696 - mse: 5.2930 - val_loss: 0.9137 - val_accuracy: 0.6511 - val_mae: 1.9137 - val_mse: 5.5370\n"
          ],
          "name": "stdout"
        }
      ]
    },
    {
      "cell_type": "code",
      "metadata": {
        "id": "jS2f5-ZVqjqE",
        "colab_type": "code",
        "colab": {
          "base_uri": "https://localhost:8080/",
          "height": 295
        },
        "outputId": "ed3af13b-c6e7-4043-f26e-e7ce153bcb3a"
      },
      "source": [
        "import matplotlib.pyplot as plt \n",
        "from google.colab import files\n",
        "\n",
        "\n",
        "plt.plot(history.history['loss'])\n",
        "plt.plot(history.history['val_loss'])\n",
        "plt.title('Model loss')\n",
        "plt.ylabel('Loss')\n",
        "plt.xlabel('Training step')\n",
        "plt.legend(['Train', 'Validation'], loc='upper left')\n",
        "plt.savefig('USERank_loss.png')\n",
        "# files.download('USERank_loss.png')"
      ],
      "execution_count": 11,
      "outputs": [
        {
          "output_type": "display_data",
          "data": {
            "image/png": "[encoded data removed]",
            "text/plain": [
              "<Figure size 432x288 with 1 Axes>"
            ]
          },
          "metadata": {
            "tags": []
          }
        }
      ]
    },
    {
      "cell_type": "code",
      "metadata": {
        "id": "r3i8CJxidjfE",
        "colab_type": "code",
        "colab": {
          "base_uri": "https://localhost:8080/",
          "height": 295
        },
        "outputId": "d1b7ca5b-67af-488c-a1d8-acbadcc785ec"
      },
      "source": [
        "plt.plot(history.history['accuracy'])\n",
        "plt.plot(history.history['val_accuracy'])\n",
        "plt.title('Model accuracy')\n",
        "plt.ylabel('Accuracy')\n",
        "plt.xlabel('Training step')\n",
        "plt.legend(['Train', 'Validation'], loc='upper left')\n",
        "plt.savefig('USERank_acc.png')\n",
        "# files.download('USERank_acc.png')"
      ],
      "execution_count": 12,
      "outputs": [
        {
          "output_type": "display_data",
          "data": {
            "image/png": "[encoded data removed]",
            "text/plain": [
              "<Figure size 432x288 with 1 Axes>"
            ]
          },
          "metadata": {
            "tags": []
          }
        }
      ]
    },
    {
      "cell_type": "code",
      "metadata": {
        "id": "h31kTPxRD8Lk",
        "colab_type": "code",
        "colab": {
          "base_uri": "https://localhost:8080/",
          "height": 34
        },
        "outputId": "afc80d20-0c72-4517-9263-7690ad104aa2"
      },
      "source": [
        "X_test = tf.constant(test.text)\n",
        "probs = averaging_model.predict(x=X_test)\n",
        "predictions = np.argmax(probs, axis=1)\n"
      ],
      "execution_count": 13,
      "outputs": [
        {
          "output_type": "execute_result",
          "data": {
            "text/plain": [
              "(953,)"
            ]
          },
          "metadata": {
            "tags": []
          },
          "execution_count": 13
        }
      ]
    },
    {
      "cell_type": "code",
      "metadata": {
        "id": "V2i4GTkXC7eY",
        "colab_type": "code",
        "colab": {
          "base_uri": "https://localhost:8080/",
          "height": 68
        },
        "outputId": "008e4b4a-9c84-4cf9-dfe7-fcf8ad278b21"
      },
      "source": [
        "y_test = test.label \n",
        "\n",
        "acc = np.mean(y_test == predictions)\n",
        "print('Accuracy: {}'.format(acc))\n",
        "mae = np.mean(np.abs(y_test - predictions))\n",
        "print('MAE: {}'.format(mae))\n",
        "mse = np.mean(np.square(y_test - predictions))\n",
        "print('MSE: {}'.format(mse))"
      ],
      "execution_count": 20,
      "outputs": [
        {
          "output_type": "stream",
          "text": [
            "Accuracy: 0.6495278069254984\n",
            "MAE: 0.36621196222455404\n",
            "MSE: 0.39769150052465896\n"
          ],
          "name": "stdout"
        }
      ]
    },
    {
      "cell_type": "code",
      "metadata": {
        "id": "SqEMzxDE7xMR",
        "colab_type": "code",
        "colab": {}
      },
      "source": [
        ""
      ],
      "execution_count": 0,
      "outputs": []
    }
  ]
}